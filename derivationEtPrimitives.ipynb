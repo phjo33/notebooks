{
 "cells": [
  {
   "cell_type": "markdown",
   "metadata": {},
   "source": [
    "# Calcul de dérivées et de primitives\n",
    "Commencer par exécuter la cellule qui suit : cliquer sur celle-ci et faites Shift+Entrée, ou bien cliquez sur Exécuter sur la barre d'outils."
   ]
  },
  {
   "cell_type": "code",
   "execution_count": null,
   "metadata": {},
   "outputs": [],
   "source": [
    "from sympy import *\n",
    "a, b, c, x = symbols('a b c x', real = True)\n",
    "n = symbols('n', integer = True)\n",
    "\n",
    "from random import choice, randint, shuffle\n",
    "\n",
    "def creeFonction1(profondeur):\n",
    "    \"\"\" ici on s'autorise le produit, quotient de fonctions de référence, voire la composée avec x->ax+b, mais pas toutes les composées \"\"\"\n",
    "    fonctions = [exp, ln, sin, cos, sqrt, lambda t : t**n, lambda t : a*t + b]\n",
    "    if profondeur == 0:\n",
    "        f = choice(fonctions)\n",
    "        if randint(1, 10) == 10:\n",
    "            return f(a*x+b)\n",
    "        else:\n",
    "            return f(x)\n",
    "    operateurs = ['+', '-', '*', '/']\n",
    "    op = choice(operateurs)\n",
    "    L = [creeFonction1(profondeur-1), creeFonction1(randint(0, profondeur-1))]\n",
    "    shuffle(L)\n",
    "    f1, f2 = L\n",
    "    if op=='+':\n",
    "        return f1 + f2\n",
    "    elif op=='-':\n",
    "        return f1 - f2\n",
    "    elif op=='*':\n",
    "        return f1 * f2\n",
    "    else:\n",
    "        return f1 / f2\n",
    "    \n",
    "def creeFonction2(profondeur):\n",
    "    \"\"\" on se permet désormais de composer les fonctions de référence \"\"\"\n",
    "    fonctions = [exp, ln, sin, cos, sqrt, lambda t : t**n, lambda t : a*t + b]\n",
    "    if profondeur == 0:\n",
    "        return choice(fonctions)(x)\n",
    "    if randint(1,3) == 1:\n",
    "        f = choice(fonctions)\n",
    "        g = creeFonction2(profondeur-1)\n",
    "        return f(g)\n",
    "    operateurs = ['+', '-', '*', '/']\n",
    "    op = choice(operateurs)\n",
    "    L = [creeFonction2(profondeur-1), creeFonction2(randint(0, profondeur-1))]\n",
    "    shuffle(L)\n",
    "    f1, f2 = L\n",
    "    if op=='+':\n",
    "        return f1 + f2\n",
    "    elif op=='-':\n",
    "        return f1 - f2\n",
    "    elif op=='*':\n",
    "        return f1 * f2\n",
    "    else:\n",
    "        return f1 / f2\n",
    "        \n"
   ]
  },
  {
   "cell_type": "markdown",
   "metadata": {},
   "source": [
    "## Dérivation\n",
    "La cellule suivante permet de générer une expression mathématique correspondant à une fonction, en pratique l'image d'un certain réel $x$ par ladite fonction, et l'objectif sera d'en calculer la dérivée (selon x donc). Si $a$ et $b$ apparaissent dans l'expression à dériver, ils seront considérés comme des constantes (réelles). L'opérateur puissance devra être noté \\*\\* et non ^ qui a une autre signification en python. La fonction exponentielle s'écrit exp, la racine carrée sqrt... La fonction logarithme (de base $e$) est notée indifféremment ln ou log.\n",
    "\n",
    "1. Se placer donc sur la cellule suivante, l'exécuter (on pourra par la suite changer le paramètre donné à creeFonction1, en étant raisonnable, car si on construit une fonction trop complexe, le temps passé à dériver puis à simplifier l'expression obtenue peut être démesuré...)\n",
    "2. Calculer à la main et introduire l'expression obtenue à la cellule suivante, et exécuter celle-ci pour laisser sympy vérifier vos calculs et, le cas échéant, les valider\n",
    "3. Recommencer. On pourra aussi remplacer creeFonction1 par creeFonction2..."
   ]
  },
  {
   "cell_type": "code",
   "execution_count": null,
   "metadata": {},
   "outputs": [],
   "source": [
    "expr = creeFonction1(2); expr"
   ]
  },
  {
   "cell_type": "code",
   "execution_count": null,
   "metadata": {},
   "outputs": [],
   "source": [
    "derivee = 2*n*x**(2*n-1) # à remplacer par la dérivée que vous aurez calculée\n",
    "if simplify(diff(expr,x) - derivee) == 0:\n",
    "    print(\"Bonne réponse\")\n",
    "else:\n",
    "    print(\"erreur, ou bien sympy n'arrive pas à prouver que votre expression est correcte...\")"
   ]
  },
  {
   "cell_type": "code",
   "execution_count": null,
   "metadata": {},
   "outputs": [],
   "source": [
    "print(\"Voici la dérivée que calcule sympy (elle peut prendre une forme différente de la vôtre)\")\n",
    "simplify(diff(expr, x))"
   ]
  },
  {
   "cell_type": "markdown",
   "metadata": {},
   "source": [
    "# Calcul de primitives\n",
    "Même principe ici... Un petit souci avec la valeur absolue : il est bien connu qu'une primitive de $x\\mapsto\n",
    "\\frac{1}{x}$ sur tout intervalle qui convient (autrement dit un intervalle ne contenant pas 0) est $x\\mapsto \\ln | x | $, mais sympy dérive $x\\mapsto \\ln | x |$ en (une fois $x$ déclarée comme une variable réelle) \n",
    "$x\\mapsto \\frac{\\mbox{sign(x)}}{|x|}$ et se révèle ensuite incapable de prouver l'égalité entre \n",
    "$\\frac{1}{x}$ et $\\frac{\\mbox{sign(x)}}{|x|}$... Pour cette raison, pour les réponses que vous soumettrez, ne mettez\n",
    "pas de valeurs absolues dans les logarithmes sinon, il risque fort d'arriver que sympy ne soit pas capable de valider vos réponses, fussent-elles correctes...\n",
    "\n",
    "Sinon, le principe est le même que pour l'exercice précédent. On pourra remplacer creeFonction1 par creeFonction2, mais il n'est pas raisonnable de tenter des arguments à ces deux fonctions beaucoup plus grands que 2... 3 à la rigueur."
   ]
  },
  {
   "cell_type": "code",
   "execution_count": null,
   "metadata": {},
   "outputs": [],
   "source": [
    "expr = creeFonction2(2); diff(expr, x)"
   ]
  },
  {
   "cell_type": "code",
   "execution_count": null,
   "metadata": {},
   "outputs": [],
   "source": [
    "primitive = x # à remplacer par la primitive que vous pensez être bonne : ne pas faire apparaître de constante ou,\n",
    "# si vous y tenez absolument, utilisez c...\n",
    "if simplify(diff(primitive, x) - expr) == 0:\n",
    "    print(\"Bonne réponse\")\n",
    "else:\n",
    "    print(\"Erreur, ou bien sympy n'arrive pas à prouver que votre expression est correcte...\")"
   ]
  },
  {
   "cell_type": "code",
   "execution_count": null,
   "metadata": {},
   "outputs": [],
   "source": [
    "print(\"Voici l'expression dont on est parti (et qu'on a dérivée) :\")\n",
    "expr"
   ]
  },
  {
   "cell_type": "code",
   "execution_count": null,
   "metadata": {},
   "outputs": [],
   "source": []
  }
 ],
 "metadata": {
  "kernelspec": {
   "display_name": "Python 3",
   "language": "python",
   "name": "python3"
  },
  "language_info": {
   "codemirror_mode": {
    "name": "ipython",
    "version": 3
   },
   "file_extension": ".py",
   "mimetype": "text/x-python",
   "name": "python",
   "nbconvert_exporter": "python",
   "pygments_lexer": "ipython3",
   "version": "3.7.4"
  }
 },
 "nbformat": 4,
 "nbformat_minor": 2
}
