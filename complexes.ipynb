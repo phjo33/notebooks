{
 "cells": [
  {
   "cell_type": "markdown",
   "metadata": {},
   "source": [
    "# Nombres complexes\n",
    "Pour commencer, cliquez sur la cellule qui suit et exécutez-la. Vous avez pour ce faire (après avoir cliqué sur ladite cellule) le choix entre cliquer sur le bouton adhoc de la barre d'outils ci-dessus, ou taper Shift+Entrée de votre clavier. Le code présent dans la cellule qui suit importe une bibliothèque de calcul formel (sympy) et définit des fonctions qui seront utiles par la suite :"
   ]
  },
  {
   "cell_type": "code",
   "execution_count": 1,
   "metadata": {},
   "outputs": [],
   "source": [
    "from sympy import *\n",
    "from random import randint, choice, shuffle\n",
    "\n",
    "def cree(n, m=5):\n",
    "    \"\"\" crée une expression formée de n opérateurs parmi +, - et * et conduisant à un complexe\n",
    "    non nul \"\"\"\n",
    "    if n == 0:\n",
    "        a, b = randint(-m, m), randint(-m, m)\n",
    "        while (a,b) == (0,0):\n",
    "            a, b = randint(-m, m), randint(-m, m)\n",
    "        return a + b*I\n",
    "    if n == 1:\n",
    "        if randint(1, 10) == 10:\n",
    "            return cree(0, m) ** 3\n",
    "        if randint(1, 10) > 8:\n",
    "            return cree(0, m) ** 2\n",
    "    opérateurs = ['+', '-', '*']\n",
    "    while True:\n",
    "        L = [cree(n-1, m), cree(randint(0, n-1), m)]\n",
    "        shuffle(L)\n",
    "        a, b = L\n",
    "        if str(type(a))==\"<class 'sympy.core.add.Add'>\" and str(type(b))==\"<class 'sympy.core.add.Add'>\":\n",
    "            op = choice(opérateurs[2:])\n",
    "        elif str(type(a))!=\"<class 'sympy.core.add.Add'>\" and str(type(b))!=\"<class 'sympy.core.add.Add'>\":\n",
    "            op = choice(opérateurs[:2])\n",
    "        else:\n",
    "            op = choice(opérateurs)\n",
    "        if op == '+':\n",
    "            c = a + b\n",
    "        elif op == '-':\n",
    "            c = a - b\n",
    "        else:\n",
    "            c = a * b\n",
    "\n",
    "        x, y = re(c), im(c)\n",
    "        if abs(x)+abs(y) > 0:\n",
    "            return c\n",
    "    \n",
    "def expression1(n, m=5):\n",
    "    return Mul(cree(n,m), Pow(cree(n,m),-1, evaluate=False), evaluate=False)\n",
    "\n",
    "\n",
    "def expression2(n, m=5):\n",
    "    Z = [1+I, 1-I, sqrt(3)+I, sqrt(3)-I, -sqrt(3)+I, -sqrt(3)-I, -1+I, -1-I, 1+sqrt(3)*I, -1+sqrt(3)*I,\\\n",
    "         1-sqrt(3)*I, -1-sqrt(3)*I, I, -I ]\n",
    "    z = 1\n",
    "    for i in range(n):\n",
    "        p = randint(-m, m)\n",
    "        z *= Pow(choice(Z), p, evaluate=False)\n",
    "    return z\n",
    "    \n"
   ]
  },
  {
   "cell_type": "markdown",
   "metadata": {},
   "source": [
    "## Forme algébrique d'un complexe\n",
    "La cellule qui suit va générer un nombre complexe plus ou moins compliqué, le plus souvent un quotient, et l'objectif est d'en calculer, sous forme simplifiée, la forme algébrique. Même si le complexe n'est créé qu'avec des entiers, initialement, la présence de quotients a pour conséquence que des rationnels vont très probablement apparaître à la fin. \n",
    "\n",
    "Le fonctionnement est alors le suivant : \n",
    "1. On exécute la cellule qui suit. Une expression est générée au hasard et affichée\n",
    "2. Vous calculez à la main une expression simplifiée (dans certains cas, une calculatrice 4 opérations pourrait être justifiée, mais le mieux est de s'en passer)\n",
    "3. Vous l'introduisez à la cellule suivante, à la suite de reponse = et exécutez celle-ci. Votre réponse devrait être alors validée ou non par sympy... Si votre réponse est incorrecte et que vous pensez avoir trouvé et corrigé votre erreur, vous pouvez bien sûr tester à nouveau votre réponse. Dans le pire des cas, l'exécution de la cellule suivante vous donnera la réponse que sympy a calculée.\n",
    "4. Reprendre à partir de 1... Quand vous maitriserez bien ces calculs, vous pourrez remplacer expression1(1) dans ce qui suit par expression1(2), expression1(3)..."
   ]
  },
  {
   "cell_type": "code",
   "execution_count": 2,
   "metadata": {},
   "outputs": [
    {
     "data": {
      "text/latex": [
       "$\\displaystyle \\frac{\\left(-5 + 4 i\\right) \\left(-3 - i\\right)}{\\left(-4 - 3 i\\right) \\left(2 - 4 i\\right)}$"
      ],
      "text/plain": [
       "((-5 + 4*I)*(-3 - I))/(((-4 - 3*I)*(2 - 4*I)))"
      ]
     },
     "execution_count": 2,
     "metadata": {},
     "output_type": "execute_result"
    }
   ],
   "source": [
    "expr = expression1(1); expr "
   ]
  },
  {
   "cell_type": "code",
   "execution_count": 6,
   "metadata": {},
   "outputs": [
    {
     "name": "stdout",
     "output_type": "stream",
     "text": [
      "A priori, sympy indique que vous vous êtes trompé\n"
     ]
    }
   ],
   "source": [
    "partieReelle, partieImaginaire = -9/10, -1/10 # pour 2+3*I, à remplacer par les bonnes valeurs bien sûr\n",
    "if simplify(expr)== partieReelle+I*partieImaginaire:\n",
    "    print(\"bonne réponse\")\n",
    "else:\n",
    "    print(\"A priori, sympy indique que vous vous êtes trompé\")"
   ]
  },
  {
   "cell_type": "code",
   "execution_count": 4,
   "metadata": {},
   "outputs": [
    {
     "name": "stdout",
     "output_type": "stream",
     "text": [
      "La valeur que sympy calcule est :\n"
     ]
    },
    {
     "data": {
      "text/latex": [
       "$\\displaystyle - \\frac{9}{10} - \\frac{i}{10}$"
      ],
      "text/plain": [
       "-9/10 - I/10"
      ]
     },
     "execution_count": 4,
     "metadata": {},
     "output_type": "execute_result"
    }
   ],
   "source": [
    "print(\"La valeur que sympy calcule est :\")\n",
    "simplify(re(expr)+I*im(expr))"
   ]
  },
  {
   "cell_type": "markdown",
   "metadata": {},
   "source": [
    "## Forme exponentielle d'un complexe\n",
    "Dans l'exercice qui suit, une expression d'un complexe est donnée. On souhaite en donner le module et un argument. Le fonctionnement est le même que l'exercice précédent :\n",
    "1. Vous exécutez la cellule qui suit. Une expression auto-générée est affichée.\n",
    "2. Vous en calculez non plus la partie réelle et imaginaire, mais le module et un argument. Le nombre $\\pi$ sera noté tout simplement pi dans votre réponse. (Par exemple, si vous estimez qu'un argument est $\\frac{\\pi}{3}$, alors vous écrirez, sans surprise, pi/3... Une fois votre réponse introduite, vous exécutez la cellule et sympy validera, ou non votre réponse.\n",
    "3. Vous recommencez à 1. Vous pouvez rendre l'exercice plus compliqué en remplaçant expression2(2, 5) par expression2(3, 5), expression2(4, 5) et également remplacer le deuxième argument de expression2 par d'autres valeurs plus importantes."
   ]
  },
  {
   "cell_type": "code",
   "execution_count": null,
   "metadata": {},
   "outputs": [],
   "source": [
    "expr = expression2(1); expr"
   ]
  },
  {
   "cell_type": "code",
   "execution_count": null,
   "metadata": {},
   "outputs": [],
   "source": [
    "module, argument = 8, 4*pi/3 # à remplacer par les bonnes valeurs\n",
    "if simplify(module-abs(expr))==0:\n",
    "    print(\"ok pour le module\")\n",
    "else:\n",
    "    print(\"a priori, sympy n'est pas d'accord avec vous pour le module\")\n",
    "if simplify((argument-arg(expr))%(2*pi))==0:\n",
    "    print(\"ok pour l'argument\")\n",
    "else:\n",
    "    print(\"sympy n'est pas d'accord avec vous pour l'argument\")\n",
    "            "
   ]
  },
  {
   "cell_type": "code",
   "execution_count": 7,
   "metadata": {},
   "outputs": [
    {
     "name": "stdout",
     "output_type": "stream",
     "text": [
      "D'après sympy, le module et un argument sont\n"
     ]
    },
    {
     "data": {
      "text/plain": [
       "(sqrt(82)/10, -pi + atan(1/9))"
      ]
     },
     "execution_count": 7,
     "metadata": {},
     "output_type": "execute_result"
    }
   ],
   "source": [
    "print(\"D'après sympy, le module et un argument sont\")\n",
    "simplify(abs(expr)), simplify(arg(expr))"
   ]
  },
  {
   "cell_type": "code",
   "execution_count": 8,
   "metadata": {},
   "outputs": [
    {
     "data": {
      "text/plain": [
       "False"
      ]
     },
     "execution_count": 8,
     "metadata": {},
     "output_type": "execute_result"
    }
   ],
   "source": [
    "2/3==Rational(2,3)"
   ]
  },
  {
   "cell_type": "code",
   "execution_count": null,
   "metadata": {},
   "outputs": [],
   "source": []
  }
 ],
 "metadata": {
  "kernelspec": {
   "display_name": "Python 3",
   "language": "python",
   "name": "python3"
  },
  "language_info": {
   "codemirror_mode": {
    "name": "ipython",
    "version": 3
   },
   "file_extension": ".py",
   "mimetype": "text/x-python",
   "name": "python",
   "nbconvert_exporter": "python",
   "pygments_lexer": "ipython3",
   "version": "3.7.4"
  }
 },
 "nbformat": 4,
 "nbformat_minor": 2
}
